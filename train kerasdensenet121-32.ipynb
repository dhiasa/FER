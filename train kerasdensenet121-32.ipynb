{
 "cells": [
  {
   "cell_type": "code",
   "execution_count": 1,
   "metadata": {},
   "outputs": [],
   "source": [
    "import numpy as np\n",
    "import h5py\n",
    "import tensorflow \n",
    "from tensorflow.keras.layers import Dropout, Conv2D, Dense, Flatten, MaxPooling2D, GlobalAveragePooling2D \n",
    "from tensorflow.keras.applications import DenseNet121\n",
    "#from densenet121 import DenseNet \n",
    "from tensorflow.keras.callbacks import EarlyStopping, ModelCheckpoint, ReduceLROnPlateau\n",
    "from tensorflow.keras.preprocessing.image import ImageDataGenerator\n",
    "from tensorflow.keras.models import Sequential\n",
    "from tensorflow.keras.optimizers import Adam\n",
    "#import matplotlib.pyplot as plt\n",
    "#import pandas as pd\n",
    "from sklearn.metrics import accuracy_score\n",
    "import scipy\n",
    "from tensorflow.keras.preprocessing.image import ImageDataGenerator\n",
    "from PIL import Image"
   ]
  },
  {
   "cell_type": "code",
   "execution_count": 2,
   "metadata": {},
   "outputs": [],
   "source": [
    "data_dir = 'FER+CK/train/'\n",
    "val_dir = 'FER+CK/val/'"
   ]
  },
  {
   "cell_type": "code",
   "execution_count": 3,
   "metadata": {},
   "outputs": [],
   "source": [
    "epochs = 300\n",
    "batch_size = 8\n",
    "target_size = (224,224)"
   ]
  },
  {
   "cell_type": "code",
   "execution_count": 4,
   "metadata": {},
   "outputs": [
    {
     "name": "stdout",
     "output_type": "stream",
     "text": [
      "Found 29430 images belonging to 7 classes.\n",
      "Found 6723 images belonging to 7 classes.\n"
     ]
    }
   ],
   "source": [
    "datagen_train = ImageDataGenerator(\n",
    "                        featurewise_center=False,\n",
    "                        featurewise_std_normalization=False,\n",
    "                        rotation_range=10,\n",
    "                        width_shift_range=0.1,\n",
    "                        height_shift_range=0.1,\n",
    "                        zoom_range=.1,\n",
    "                        shear_range=.2,\n",
    "                        horizontal_flip=True)\n",
    "\n",
    "train_generator = datagen_train.flow_from_directory(data_dir,\n",
    "                                                    target_size=target_size,\n",
    "                                                    batch_size= batch_size,\n",
    "                                                    class_mode='categorical',\n",
    "                                                    color_mode='rgb',\n",
    "                                                    shuffle=True)\n",
    "\n",
    "datagen_val = ImageDataGenerator(featurewise_center=False,\n",
    "                        featurewise_std_normalization=False,\n",
    "                        rotation_range=10,\n",
    "                        width_shift_range=0.1,\n",
    "                        height_shift_range=0.1,\n",
    "                        zoom_range=.1,\n",
    "                        shear_range=.2,\n",
    "                        horizontal_flip=True)\n",
    "\n",
    "val_generator = datagen_val.flow_from_directory(val_dir,\n",
    "                                                target_size=target_size,\n",
    "                                                batch_size=batch_size,\n",
    "                                                class_mode='categorical',\n",
    "                                                color_mode='rgb',\n",
    "                                                shuffle=False) "
   ]
  },
  {
   "cell_type": "code",
   "execution_count": 5,
   "metadata": {},
   "outputs": [],
   "source": [
    "densenet = DenseNet121(\n",
    "    weights='imagenet',\n",
    "    include_top=False,\n",
    "    input_shape=(224,224,3)\n",
    ")"
   ]
  },
  {
   "cell_type": "code",
   "execution_count": 6,
   "metadata": {},
   "outputs": [
    {
     "name": "stdout",
     "output_type": "stream",
     "text": [
      "Model: \"sequential\"\n",
      "_________________________________________________________________\n",
      "Layer (type)                 Output Shape              Param #   \n",
      "=================================================================\n",
      "densenet121 (Functional)     (None, 7, 7, 1024)        7037504   \n",
      "_________________________________________________________________\n",
      "global_average_pooling2d (Gl (None, 1024)              0         \n",
      "_________________________________________________________________\n",
      "dropout (Dropout)            (None, 1024)              0         \n",
      "_________________________________________________________________\n",
      "dense (Dense)                (None, 7)                 7175      \n",
      "=================================================================\n",
      "Total params: 7,044,679\n",
      "Trainable params: 6,961,031\n",
      "Non-trainable params: 83,648\n",
      "_________________________________________________________________\n"
     ]
    }
   ],
   "source": [
    "def build_model():\n",
    "    model = Sequential()\n",
    "    model.add(densenet)\n",
    "    model.add(GlobalAveragePooling2D())\n",
    "    model.add(Dropout(0.5))\n",
    "    model.add(Dense(7, activation='softmax'))\n",
    "    \n",
    "    model.compile(\n",
    "        loss='categorical_crossentropy',\n",
    "        optimizer=Adam(learning_rate=0.0001),\n",
    "        metrics=['accuracy']\n",
    "    )\n",
    "    \n",
    "    return model\n",
    "\n",
    "model = build_model()\n",
    "model.summary()"
   ]
  },
  {
   "cell_type": "code",
   "execution_count": 7,
   "metadata": {},
   "outputs": [],
   "source": [
    "my_callbacks = [\n",
    "                EarlyStopping(monitor='val_accuracy', min_delta=1e-5, patience=20, mode='auto', verbose=1),\n",
    "                ModelCheckpoint(filepath='224keras_ferck_densenet32.h5', monitor='accuracy', save_best_only=True, save_weights_only=False, mode='auto', verbose=1)\n",
    "]"
   ]
  },
  {
   "cell_type": "code",
   "execution_count": 8,
   "metadata": {},
   "outputs": [
    {
     "name": "stdout",
     "output_type": "stream",
     "text": [
      "Epoch 1/300\n",
      "3679/3679 [==============================] - 1079s 285ms/step - loss: 1.4452 - accuracy: 0.4733 - val_loss: 1.1210 - val_accuracy: 0.5712\n",
      "\n",
      "Epoch 00001: accuracy improved from -inf to 0.47326, saving model to 224keras_ferck_densenet32.h5\n",
      "Epoch 2/300\n",
      "3679/3679 [==============================] - 919s 250ms/step - loss: 1.1424 - accuracy: 0.5765 - val_loss: 1.1052 - val_accuracy: 0.5808\n",
      "\n",
      "Epoch 00002: accuracy improved from 0.47326 to 0.57652, saving model to 224keras_ferck_densenet32.h5\n",
      "Epoch 3/300\n",
      "3679/3679 [==============================] - 924s 251ms/step - loss: 1.0415 - accuracy: 0.6174 - val_loss: 0.9894 - val_accuracy: 0.6258\n",
      "\n",
      "Epoch 00003: accuracy improved from 0.57652 to 0.61743, saving model to 224keras_ferck_densenet32.h5\n",
      "Epoch 4/300\n",
      "3679/3679 [==============================] - 851s 231ms/step - loss: 0.9644 - accuracy: 0.6505 - val_loss: 0.9304 - val_accuracy: 0.6568\n",
      "\n",
      "Epoch 00004: accuracy improved from 0.61743 to 0.65049, saving model to 224keras_ferck_densenet32.h5\n",
      "Epoch 5/300\n",
      "3679/3679 [==============================] - 700s 190ms/step - loss: 0.9095 - accuracy: 0.6668 - val_loss: 0.8889 - val_accuracy: 0.6662\n",
      "\n",
      "Epoch 00005: accuracy improved from 0.65049 to 0.66684, saving model to 224keras_ferck_densenet32.h5\n",
      "Epoch 6/300\n",
      "3679/3679 [==============================] - 686s 186ms/step - loss: 0.8637 - accuracy: 0.6863 - val_loss: 0.9005 - val_accuracy: 0.6683\n",
      "\n",
      "Epoch 00006: accuracy improved from 0.66684 to 0.68627, saving model to 224keras_ferck_densenet32.h5\n",
      "Epoch 7/300\n",
      "3679/3679 [==============================] - 692s 188ms/step - loss: 0.8214 - accuracy: 0.7006 - val_loss: 0.8796 - val_accuracy: 0.6760\n",
      "\n",
      "Epoch 00007: accuracy improved from 0.68627 to 0.70061, saving model to 224keras_ferck_densenet32.h5\n",
      "Epoch 8/300\n",
      "3679/3679 [==============================] - 682s 185ms/step - loss: 0.7842 - accuracy: 0.7158 - val_loss: 0.8935 - val_accuracy: 0.6622\n",
      "\n",
      "Epoch 00008: accuracy improved from 0.70061 to 0.71583, saving model to 224keras_ferck_densenet32.h5\n",
      "Epoch 9/300\n",
      "3679/3679 [==============================] - 678s 184ms/step - loss: 0.7408 - accuracy: 0.7303 - val_loss: 0.8164 - val_accuracy: 0.6928\n",
      "\n",
      "Epoch 00009: accuracy improved from 0.71583 to 0.73028, saving model to 224keras_ferck_densenet32.h5\n",
      "Epoch 10/300\n",
      "3679/3679 [==============================] - 728s 198ms/step - loss: 0.7019 - accuracy: 0.7475 - val_loss: 0.8199 - val_accuracy: 0.6945\n",
      "\n",
      "Epoch 00010: accuracy improved from 0.73028 to 0.74754, saving model to 224keras_ferck_densenet32.h5\n",
      "Epoch 11/300\n",
      "3679/3679 [==============================] - 691s 188ms/step - loss: 0.6694 - accuracy: 0.7596 - val_loss: 0.7320 - val_accuracy: 0.7318\n",
      "\n",
      "Epoch 00011: accuracy improved from 0.74754 to 0.75963, saving model to 224keras_ferck_densenet32.h5\n",
      "Epoch 12/300\n",
      "3679/3679 [==============================] - 690s 188ms/step - loss: 0.6370 - accuracy: 0.7705 - val_loss: 0.7823 - val_accuracy: 0.7074\n",
      "\n",
      "Epoch 00012: accuracy improved from 0.75963 to 0.77051, saving model to 224keras_ferck_densenet32.h5\n",
      "Epoch 13/300\n",
      "3679/3679 [==============================] - 690s 188ms/step - loss: 0.6068 - accuracy: 0.7795 - val_loss: 0.7116 - val_accuracy: 0.7474\n",
      "\n",
      "Epoch 00013: accuracy improved from 0.77051 to 0.77951, saving model to 224keras_ferck_densenet32.h5\n",
      "Epoch 14/300\n",
      "3679/3679 [==============================] - 696s 189ms/step - loss: 0.5647 - accuracy: 0.7951 - val_loss: 0.6967 - val_accuracy: 0.7507\n",
      "\n",
      "Epoch 00014: accuracy improved from 0.77951 to 0.79514, saving model to 224keras_ferck_densenet32.h5\n",
      "Epoch 15/300\n",
      "3679/3679 [==============================] - 693s 188ms/step - loss: 0.5459 - accuracy: 0.8047 - val_loss: 0.8212 - val_accuracy: 0.7175\n",
      "\n",
      "Epoch 00015: accuracy improved from 0.79514 to 0.80472, saving model to 224keras_ferck_densenet32.h5\n",
      "Epoch 16/300\n",
      "3679/3679 [==============================] - 677s 184ms/step - loss: 0.5145 - accuracy: 0.8148 - val_loss: 0.6775 - val_accuracy: 0.7683\n",
      "\n",
      "Epoch 00016: accuracy improved from 0.80472 to 0.81478, saving model to 224keras_ferck_densenet32.h5\n",
      "Epoch 17/300\n",
      "3679/3679 [==============================] - 694s 189ms/step - loss: 0.4845 - accuracy: 0.8261 - val_loss: 0.6982 - val_accuracy: 0.7705\n",
      "\n",
      "Epoch 00017: accuracy improved from 0.81478 to 0.82610, saving model to 224keras_ferck_densenet32.h5\n",
      "Epoch 18/300\n",
      "3679/3679 [==============================] - 690s 188ms/step - loss: 0.4562 - accuracy: 0.8362 - val_loss: 0.6367 - val_accuracy: 0.7929\n",
      "\n",
      "Epoch 00018: accuracy improved from 0.82610 to 0.83619, saving model to 224keras_ferck_densenet32.h5\n",
      "Epoch 19/300\n",
      "3679/3679 [==============================] - 865s 235ms/step - loss: 0.4358 - accuracy: 0.8449 - val_loss: 0.7194 - val_accuracy: 0.7644\n",
      "\n",
      "Epoch 00019: accuracy improved from 0.83619 to 0.84485, saving model to 224keras_ferck_densenet32.h5\n",
      "Epoch 20/300\n",
      "3679/3679 [==============================] - 909s 247ms/step - loss: 0.4138 - accuracy: 0.8525 - val_loss: 0.7184 - val_accuracy: 0.7611\n",
      "\n",
      "Epoch 00020: accuracy improved from 0.84485 to 0.85250, saving model to 224keras_ferck_densenet32.h5\n",
      "Epoch 21/300\n",
      "3679/3679 [==============================] - 905s 246ms/step - loss: 0.3933 - accuracy: 0.8589 - val_loss: 0.6709 - val_accuracy: 0.7886\n",
      "\n",
      "Epoch 00021: accuracy improved from 0.85250 to 0.85885, saving model to 224keras_ferck_densenet32.h5\n",
      "Epoch 22/300\n",
      "3679/3679 [==============================] - 902s 245ms/step - loss: 0.3683 - accuracy: 0.8667 - val_loss: 0.6794 - val_accuracy: 0.7871\n",
      "\n",
      "Epoch 00022: accuracy improved from 0.85885 to 0.86670, saving model to 224keras_ferck_densenet32.h5\n",
      "Epoch 23/300\n",
      "3679/3679 [==============================] - 799s 217ms/step - loss: 0.3488 - accuracy: 0.8765 - val_loss: 0.6395 - val_accuracy: 0.8025\n",
      "\n",
      "Epoch 00023: accuracy improved from 0.86670 to 0.87652, saving model to 224keras_ferck_densenet32.h5\n",
      "Epoch 24/300\n",
      "3679/3679 [==============================] - 693s 188ms/step - loss: 0.3354 - accuracy: 0.8791 - val_loss: 0.6554 - val_accuracy: 0.8031\n",
      "\n",
      "Epoch 00024: accuracy improved from 0.87652 to 0.87910, saving model to 224keras_ferck_densenet32.h5\n",
      "Epoch 25/300\n",
      "3679/3679 [==============================] - 690s 188ms/step - loss: 0.3106 - accuracy: 0.8910 - val_loss: 0.6633 - val_accuracy: 0.8046\n",
      "\n",
      "Epoch 00025: accuracy improved from 0.87910 to 0.89096, saving model to 224keras_ferck_densenet32.h5\n",
      "Epoch 26/300\n",
      "3679/3679 [==============================] - 691s 188ms/step - loss: 0.3088 - accuracy: 0.8916 - val_loss: 0.6807 - val_accuracy: 0.8008\n",
      "\n",
      "Epoch 00026: accuracy improved from 0.89096 to 0.89164, saving model to 224keras_ferck_densenet32.h5\n",
      "Epoch 27/300\n",
      "3679/3679 [==============================] - 699s 190ms/step - loss: 0.2901 - accuracy: 0.8969 - val_loss: 0.6470 - val_accuracy: 0.8081\n",
      "\n",
      "Epoch 00027: accuracy improved from 0.89164 to 0.89694, saving model to 224keras_ferck_densenet32.h5\n",
      "Epoch 28/300\n",
      "3679/3679 [==============================] - 704s 191ms/step - loss: 0.2837 - accuracy: 0.8984 - val_loss: 0.6856 - val_accuracy: 0.7909\n",
      "\n",
      "Epoch 00028: accuracy improved from 0.89694 to 0.89840, saving model to 224keras_ferck_densenet32.h5\n",
      "Epoch 29/300\n",
      "3679/3679 [==============================] - 694s 189ms/step - loss: 0.2614 - accuracy: 0.9055 - val_loss: 0.7361 - val_accuracy: 0.7903\n",
      "\n",
      "Epoch 00029: accuracy improved from 0.89840 to 0.90554, saving model to 224keras_ferck_densenet32.h5\n",
      "Epoch 30/300\n",
      "3679/3679 [==============================] - 693s 188ms/step - loss: 0.2620 - accuracy: 0.9062 - val_loss: 0.6709 - val_accuracy: 0.8145\n",
      "\n",
      "Epoch 00030: accuracy improved from 0.90554 to 0.90615, saving model to 224keras_ferck_densenet32.h5\n",
      "Epoch 31/300\n",
      "3679/3679 [==============================] - 684s 186ms/step - loss: 0.2463 - accuracy: 0.9122 - val_loss: 0.6892 - val_accuracy: 0.8142\n",
      "\n",
      "Epoch 00031: accuracy improved from 0.90615 to 0.91216, saving model to 224keras_ferck_densenet32.h5\n",
      "Epoch 32/300\n",
      "3679/3679 [==============================] - 696s 189ms/step - loss: 0.2453 - accuracy: 0.9131 - val_loss: 0.6825 - val_accuracy: 0.8221\n",
      "\n",
      "Epoch 00032: accuracy improved from 0.91216 to 0.91312, saving model to 224keras_ferck_densenet32.h5\n",
      "Epoch 33/300\n"
     ]
    },
    {
     "name": "stdout",
     "output_type": "stream",
     "text": [
      "3679/3679 [==============================] - 701s 191ms/step - loss: 0.2292 - accuracy: 0.9185 - val_loss: 0.6865 - val_accuracy: 0.8191\n",
      "\n",
      "Epoch 00033: accuracy improved from 0.91312 to 0.91845, saving model to 224keras_ferck_densenet32.h5\n",
      "Epoch 34/300\n",
      "3679/3679 [==============================] - 698s 190ms/step - loss: 0.2225 - accuracy: 0.9219 - val_loss: 0.7480 - val_accuracy: 0.8048\n",
      "\n",
      "Epoch 00034: accuracy improved from 0.91845 to 0.92188, saving model to 224keras_ferck_densenet32.h5\n",
      "Epoch 35/300\n",
      "3679/3679 [==============================] - 808s 220ms/step - loss: 0.2151 - accuracy: 0.9235 - val_loss: 0.6896 - val_accuracy: 0.8273\n",
      "\n",
      "Epoch 00035: accuracy improved from 0.92188 to 0.92351, saving model to 224keras_ferck_densenet32.h5\n",
      "Epoch 36/300\n",
      "3679/3679 [==============================] - 909s 247ms/step - loss: 0.2089 - accuracy: 0.9258 - val_loss: 0.7149 - val_accuracy: 0.8167\n",
      "\n",
      "Epoch 00036: accuracy improved from 0.92351 to 0.92579, saving model to 224keras_ferck_densenet32.h5\n",
      "Epoch 37/300\n",
      "3679/3679 [==============================] - 894s 243ms/step - loss: 0.2084 - accuracy: 0.9270 - val_loss: 0.7102 - val_accuracy: 0.8157\n",
      "\n",
      "Epoch 00037: accuracy improved from 0.92579 to 0.92701, saving model to 224keras_ferck_densenet32.h5\n",
      "Epoch 38/300\n",
      "3679/3679 [==============================] - 899s 244ms/step - loss: 0.2011 - accuracy: 0.9283 - val_loss: 0.7201 - val_accuracy: 0.8239\n",
      "\n",
      "Epoch 00038: accuracy improved from 0.92701 to 0.92827, saving model to 224keras_ferck_densenet32.h5\n",
      "Epoch 39/300\n",
      "3679/3679 [==============================] - 903s 245ms/step - loss: 0.1939 - accuracy: 0.9326 - val_loss: 0.7523 - val_accuracy: 0.8203\n",
      "\n",
      "Epoch 00039: accuracy improved from 0.92827 to 0.93259, saving model to 224keras_ferck_densenet32.h5\n",
      "Epoch 40/300\n",
      "3679/3679 [==============================] - 831s 226ms/step - loss: 0.1950 - accuracy: 0.9323 - val_loss: 0.7259 - val_accuracy: 0.8199\n",
      "\n",
      "Epoch 00040: accuracy did not improve from 0.93259\n",
      "Epoch 41/300\n",
      "3679/3679 [==============================] - 715s 194ms/step - loss: 0.1869 - accuracy: 0.9342 - val_loss: 0.7051 - val_accuracy: 0.8211\n",
      "\n",
      "Epoch 00041: accuracy improved from 0.93259 to 0.93422, saving model to 224keras_ferck_densenet32.h5\n",
      "Epoch 42/300\n",
      "3679/3679 [==============================] - 701s 191ms/step - loss: 0.1783 - accuracy: 0.9383 - val_loss: 0.7014 - val_accuracy: 0.8221\n",
      "\n",
      "Epoch 00042: accuracy improved from 0.93422 to 0.93826, saving model to 224keras_ferck_densenet32.h5\n",
      "Epoch 43/300\n",
      "3679/3679 [==============================] - 687s 187ms/step - loss: 0.1789 - accuracy: 0.9373 - val_loss: 0.8234 - val_accuracy: 0.8066\n",
      "\n",
      "Epoch 00043: accuracy did not improve from 0.93826\n",
      "Epoch 44/300\n",
      "3679/3679 [==============================] - 680s 185ms/step - loss: 0.1655 - accuracy: 0.9421 - val_loss: 0.9805 - val_accuracy: 0.7718\n",
      "\n",
      "Epoch 00044: accuracy improved from 0.93826 to 0.94207, saving model to 224keras_ferck_densenet32.h5\n",
      "Epoch 45/300\n",
      "3679/3679 [==============================] - 681s 185ms/step - loss: 0.1750 - accuracy: 0.9396 - val_loss: 0.7269 - val_accuracy: 0.8239\n",
      "\n",
      "Epoch 00045: accuracy did not improve from 0.94207\n",
      "Epoch 46/300\n",
      "3679/3679 [==============================] - 693s 188ms/step - loss: 0.1637 - accuracy: 0.9416 - val_loss: 0.7126 - val_accuracy: 0.8266\n",
      "\n",
      "Epoch 00046: accuracy did not improve from 0.94207\n",
      "Epoch 47/300\n",
      "3679/3679 [==============================] - 704s 191ms/step - loss: 0.1606 - accuracy: 0.9453 - val_loss: 0.7553 - val_accuracy: 0.8209\n",
      "\n",
      "Epoch 00047: accuracy improved from 0.94207 to 0.94533, saving model to 224keras_ferck_densenet32.h5\n",
      "Epoch 48/300\n",
      "3679/3679 [==============================] - 712s 194ms/step - loss: 0.1599 - accuracy: 0.9451 - val_loss: 0.7123 - val_accuracy: 0.8285\n",
      "\n",
      "Epoch 00048: accuracy did not improve from 0.94533\n",
      "Epoch 49/300\n",
      "3679/3679 [==============================] - 709s 193ms/step - loss: 0.1553 - accuracy: 0.9469 - val_loss: 0.6975 - val_accuracy: 0.8303\n",
      "\n",
      "Epoch 00049: accuracy improved from 0.94533 to 0.94692, saving model to 224keras_ferck_densenet32.h5\n",
      "Epoch 50/300\n",
      "3679/3679 [==============================] - 697s 189ms/step - loss: 0.1522 - accuracy: 0.9478 - val_loss: 0.7120 - val_accuracy: 0.8411\n",
      "\n",
      "Epoch 00050: accuracy improved from 0.94692 to 0.94781, saving model to 224keras_ferck_densenet32.h5\n",
      "Epoch 51/300\n",
      "3679/3679 [==============================] - 703s 191ms/step - loss: 0.1466 - accuracy: 0.9483 - val_loss: 0.7048 - val_accuracy: 0.8331\n",
      "\n",
      "Epoch 00051: accuracy improved from 0.94781 to 0.94825, saving model to 224keras_ferck_densenet32.h5\n",
      "Epoch 52/300\n",
      "3679/3679 [==============================] - 694s 189ms/step - loss: 0.1499 - accuracy: 0.9473 - val_loss: 0.7352 - val_accuracy: 0.8281\n",
      "\n",
      "Epoch 00052: accuracy did not improve from 0.94825\n",
      "Epoch 53/300\n",
      "3679/3679 [==============================] - 708s 193ms/step - loss: 0.1406 - accuracy: 0.9523 - val_loss: 0.7107 - val_accuracy: 0.8377\n",
      "\n",
      "Epoch 00053: accuracy improved from 0.94825 to 0.95226, saving model to 224keras_ferck_densenet32.h5\n",
      "Epoch 54/300\n",
      "3679/3679 [==============================] - 701s 191ms/step - loss: 0.1375 - accuracy: 0.9526 - val_loss: 0.7845 - val_accuracy: 0.8245\n",
      "\n",
      "Epoch 00054: accuracy improved from 0.95226 to 0.95263, saving model to 224keras_ferck_densenet32.h5\n",
      "Epoch 55/300\n",
      "3679/3679 [==============================] - 814s 221ms/step - loss: 0.1349 - accuracy: 0.9534 - val_loss: 0.7196 - val_accuracy: 0.8431\n",
      "\n",
      "Epoch 00055: accuracy improved from 0.95263 to 0.95338, saving model to 224keras_ferck_densenet32.h5\n",
      "Epoch 56/300\n",
      "3679/3679 [==============================] - 910s 247ms/step - loss: 0.1356 - accuracy: 0.9539 - val_loss: 0.7908 - val_accuracy: 0.8246\n",
      "\n",
      "Epoch 00056: accuracy improved from 0.95338 to 0.95392, saving model to 224keras_ferck_densenet32.h5\n",
      "Epoch 57/300\n",
      "3679/3679 [==============================] - 901s 245ms/step - loss: 0.1338 - accuracy: 0.9542 - val_loss: 0.7460 - val_accuracy: 0.8346\n",
      "\n",
      "Epoch 00057: accuracy improved from 0.95392 to 0.95416, saving model to 224keras_ferck_densenet32.h5\n",
      "Epoch 58/300\n",
      "3679/3679 [==============================] - 899s 244ms/step - loss: 0.1337 - accuracy: 0.9530 - val_loss: 0.7404 - val_accuracy: 0.8281\n",
      "\n",
      "Epoch 00058: accuracy did not improve from 0.95416\n",
      "Epoch 59/300\n",
      "3679/3679 [==============================] - 789s 214ms/step - loss: 0.1285 - accuracy: 0.9548 - val_loss: 0.7481 - val_accuracy: 0.8325\n",
      "\n",
      "Epoch 00059: accuracy improved from 0.95416 to 0.95484, saving model to 224keras_ferck_densenet32.h5\n",
      "Epoch 60/300\n",
      "3679/3679 [==============================] - 706s 192ms/step - loss: 0.1246 - accuracy: 0.9572 - val_loss: 0.7426 - val_accuracy: 0.8416\n",
      "\n",
      "Epoch 00060: accuracy improved from 0.95484 to 0.95722, saving model to 224keras_ferck_densenet32.h5\n",
      "Epoch 61/300\n",
      "3679/3679 [==============================] - 680s 185ms/step - loss: 0.1275 - accuracy: 0.9546 - val_loss: 0.7824 - val_accuracy: 0.8333\n",
      "\n",
      "Epoch 00061: accuracy did not improve from 0.95722\n",
      "Epoch 62/300\n",
      "3679/3679 [==============================] - 689s 187ms/step - loss: 0.1268 - accuracy: 0.9560 - val_loss: 0.7717 - val_accuracy: 0.8397\n",
      "\n",
      "Epoch 00062: accuracy did not improve from 0.95722\n",
      "Epoch 63/300\n",
      "3679/3679 [==============================] - 681s 185ms/step - loss: 0.1117 - accuracy: 0.9610 - val_loss: 0.8090 - val_accuracy: 0.8349\n",
      "\n",
      "Epoch 00063: accuracy improved from 0.95722 to 0.96099, saving model to 224keras_ferck_densenet32.h5\n",
      "Epoch 64/300\n",
      "3679/3679 [==============================] - 680s 185ms/step - loss: 0.1236 - accuracy: 0.9576 - val_loss: 0.8537 - val_accuracy: 0.8288\n",
      "\n",
      "Epoch 00064: accuracy did not improve from 0.96099\n",
      "Epoch 65/300\n",
      "3679/3679 [==============================] - 697s 189ms/step - loss: 0.1193 - accuracy: 0.9586 - val_loss: 0.8038 - val_accuracy: 0.8374\n",
      "\n",
      "Epoch 00065: accuracy did not improve from 0.96099\n",
      "Epoch 66/300\n",
      "3679/3679 [==============================] - 703s 191ms/step - loss: 0.1174 - accuracy: 0.9584 - val_loss: 0.7979 - val_accuracy: 0.8254\n",
      "\n",
      "Epoch 00066: accuracy did not improve from 0.96099\n",
      "Epoch 67/300\n",
      "3679/3679 [==============================] - 714s 194ms/step - loss: 0.1154 - accuracy: 0.9610 - val_loss: 0.8250 - val_accuracy: 0.8313\n",
      "\n",
      "Epoch 00067: accuracy improved from 0.96099 to 0.96103, saving model to 224keras_ferck_densenet32.h5\n"
     ]
    },
    {
     "name": "stdout",
     "output_type": "stream",
     "text": [
      "Epoch 68/300\n",
      "3679/3679 [==============================] - 681s 185ms/step - loss: 0.1123 - accuracy: 0.9611 - val_loss: 0.7756 - val_accuracy: 0.8350\n",
      "\n",
      "Epoch 00068: accuracy improved from 0.96103 to 0.96109, saving model to 224keras_ferck_densenet32.h5\n",
      "Epoch 69/300\n",
      "3679/3679 [==============================] - 694s 189ms/step - loss: 0.1109 - accuracy: 0.9613 - val_loss: 0.7055 - val_accuracy: 0.8526\n",
      "\n",
      "Epoch 00069: accuracy improved from 0.96109 to 0.96126, saving model to 224keras_ferck_densenet32.h5\n",
      "Epoch 70/300\n",
      "3679/3679 [==============================] - 689s 187ms/step - loss: 0.1100 - accuracy: 0.9627 - val_loss: 0.8111 - val_accuracy: 0.8371\n",
      "\n",
      "Epoch 00070: accuracy improved from 0.96126 to 0.96273, saving model to 224keras_ferck_densenet32.h5\n",
      "Epoch 71/300\n",
      "3679/3679 [==============================] - 685s 186ms/step - loss: 0.1113 - accuracy: 0.9621 - val_loss: 0.8358 - val_accuracy: 0.8344\n",
      "\n",
      "Epoch 00071: accuracy did not improve from 0.96273\n",
      "Epoch 72/300\n",
      "3679/3679 [==============================] - 683s 186ms/step - loss: 0.1086 - accuracy: 0.9628 - val_loss: 0.7959 - val_accuracy: 0.8453\n",
      "\n",
      "Epoch 00072: accuracy improved from 0.96273 to 0.96283, saving model to 224keras_ferck_densenet32.h5\n",
      "Epoch 73/300\n",
      "3679/3679 [==============================] - 900s 245ms/step - loss: 0.1032 - accuracy: 0.9634 - val_loss: 0.8345 - val_accuracy: 0.8429\n",
      "\n",
      "Epoch 00073: accuracy improved from 0.96283 to 0.96344, saving model to 224keras_ferck_densenet32.h5\n",
      "Epoch 74/300\n",
      "3679/3679 [==============================] - 896s 244ms/step - loss: 0.1055 - accuracy: 0.9650 - val_loss: 0.8018 - val_accuracy: 0.8438\n",
      "\n",
      "Epoch 00074: accuracy improved from 0.96344 to 0.96497, saving model to 224keras_ferck_densenet32.h5\n",
      "Epoch 75/300\n",
      "3679/3679 [==============================] - 898s 244ms/step - loss: 0.1048 - accuracy: 0.9641 - val_loss: 0.7642 - val_accuracy: 0.8359\n",
      "\n",
      "Epoch 00075: accuracy did not improve from 0.96497\n",
      "Epoch 76/300\n",
      "3679/3679 [==============================] - 890s 242ms/step - loss: 0.0994 - accuracy: 0.9662 - val_loss: 0.8638 - val_accuracy: 0.8286\n",
      "\n",
      "Epoch 00076: accuracy improved from 0.96497 to 0.96619, saving model to 224keras_ferck_densenet32.h5\n",
      "Epoch 77/300\n",
      "3679/3679 [==============================] - 891s 242ms/step - loss: 0.1043 - accuracy: 0.9637 - val_loss: 0.8241 - val_accuracy: 0.8347\n",
      "\n",
      "Epoch 00077: accuracy did not improve from 0.96619\n",
      "Epoch 78/300\n",
      "3679/3679 [==============================] - 28582s 8s/step - loss: 0.0960 - accuracy: 0.9661 - val_loss: 0.8746 - val_accuracy: 0.8289\n",
      "\n",
      "Epoch 00078: accuracy did not improve from 0.96619\n",
      "Epoch 79/300\n",
      "3679/3679 [==============================] - 686s 187ms/step - loss: 0.0943 - accuracy: 0.9670 - val_loss: 0.8680 - val_accuracy: 0.8392\n",
      "\n",
      "Epoch 00079: accuracy improved from 0.96619 to 0.96701, saving model to 224keras_ferck_densenet32.h5\n",
      "Epoch 80/300\n",
      "3679/3679 [==============================] - 686s 187ms/step - loss: 0.1002 - accuracy: 0.9660 - val_loss: 0.7976 - val_accuracy: 0.8441\n",
      "\n",
      "Epoch 00080: accuracy did not improve from 0.96701\n",
      "Epoch 81/300\n",
      "3679/3679 [==============================] - 686s 186ms/step - loss: 0.0942 - accuracy: 0.9667 - val_loss: 0.8152 - val_accuracy: 0.8388\n",
      "\n",
      "Epoch 00081: accuracy did not improve from 0.96701\n",
      "Epoch 82/300\n",
      "3679/3679 [==============================] - 672s 183ms/step - loss: 0.0927 - accuracy: 0.9675 - val_loss: 0.8261 - val_accuracy: 0.8377\n",
      "\n",
      "Epoch 00082: accuracy improved from 0.96701 to 0.96748, saving model to 224keras_ferck_densenet32.h5\n",
      "Epoch 83/300\n",
      "3679/3679 [==============================] - 670s 182ms/step - loss: 0.0967 - accuracy: 0.9667 - val_loss: 0.7925 - val_accuracy: 0.8516\n",
      "\n",
      "Epoch 00083: accuracy did not improve from 0.96748\n",
      "Epoch 84/300\n",
      "3679/3679 [==============================] - 685s 186ms/step - loss: 0.0936 - accuracy: 0.9667 - val_loss: 0.8437 - val_accuracy: 0.8469\n",
      "\n",
      "Epoch 00084: accuracy did not improve from 0.96748\n",
      "Epoch 85/300\n",
      "3679/3679 [==============================] - 677s 184ms/step - loss: 0.0934 - accuracy: 0.9676 - val_loss: 0.8605 - val_accuracy: 0.8452\n",
      "\n",
      "Epoch 00085: accuracy improved from 0.96748 to 0.96758, saving model to 224keras_ferck_densenet32.h5\n",
      "Epoch 86/300\n",
      "3679/3679 [==============================] - 686s 187ms/step - loss: 0.0905 - accuracy: 0.9694 - val_loss: 0.8081 - val_accuracy: 0.8465\n",
      "\n",
      "Epoch 00086: accuracy improved from 0.96758 to 0.96935, saving model to 224keras_ferck_densenet32.h5\n",
      "Epoch 87/300\n",
      "3679/3679 [==============================] - 688s 187ms/step - loss: 0.0874 - accuracy: 0.9699 - val_loss: 0.8390 - val_accuracy: 0.8477\n",
      "\n",
      "Epoch 00087: accuracy improved from 0.96935 to 0.96989, saving model to 224keras_ferck_densenet32.h5\n",
      "Epoch 88/300\n",
      "3679/3679 [==============================] - 686s 186ms/step - loss: 0.0913 - accuracy: 0.9692 - val_loss: 0.7862 - val_accuracy: 0.8359\n",
      "\n",
      "Epoch 00088: accuracy did not improve from 0.96989\n",
      "Epoch 89/300\n",
      "3679/3679 [==============================] - 780s 212ms/step - loss: 0.0886 - accuracy: 0.9698 - val_loss: 0.7887 - val_accuracy: 0.8516\n",
      "\n",
      "Epoch 00089: accuracy did not improve from 0.96989\n",
      "Epoch 00089: early stopping\n"
     ]
    }
   ],
   "source": [
    "history = model.fit(train_generator,\n",
    "                    epochs=epochs, steps_per_epoch=len(train_generator), # How many mini_batchs we have inside each epoch.\n",
    "                    validation_data=val_generator,\n",
    "                    callbacks=my_callbacks,\n",
    "                    verbose=1)"
   ]
  },
  {
   "cell_type": "code",
   "execution_count": 9,
   "metadata": {},
   "outputs": [
    {
     "data": {
      "image/png": "[encoded data removed]",
      "text/plain": [
       "<Figure size 1296x432 with 2 Axes>"
      ]
     },
     "metadata": {
      "needs_background": "light"
     },
     "output_type": "display_data"
    }
   ],
   "source": [
    "import matplotlib.pyplot as plt\n",
    "\n",
    "fig, axes = plt.subplots(1,2, figsize=(18, 6))\n",
    "\n",
    "# Plot training & validation accuracy values\n",
    "\n",
    "axes[0].plot(history.history['accuracy'])\n",
    "axes[0].plot(history.history['val_accuracy'])\n",
    "axes[0].set_title('Model accuracy')\n",
    "axes[0].set_ylabel('Accuracy')\n",
    "axes[0].set_xlabel('Epoch')\n",
    "axes[0].legend(['Train', 'Validation'], loc='upper left')\n",
    "\n",
    "# Plot training & validation loss values\n",
    "\n",
    "axes[1].plot(history.history['loss'])\n",
    "axes[1].plot(history.history['val_loss'])\n",
    "axes[1].set_title('Model loss')\n",
    "axes[1].set_ylabel('Loss')\n",
    "axes[1].set_xlabel('Epoch')\n",
    "axes[1].legend(['Train', 'Validation'], loc='upper left')\n",
    "plt.show()"
   ]
  },
  {
   "cell_type": "code",
   "execution_count": 10,
   "metadata": {},
   "outputs": [],
   "source": [
    "model_json = model.to_json()\n",
    "with open(\"224keras_ferck_densenet32.json\", \"w\") as json_file:\n",
    "    json_file.write(model_json)"
   ]
  },
  {
   "cell_type": "code",
   "execution_count": 11,
   "metadata": {},
   "outputs": [
    {
     "name": "stdout",
     "output_type": "stream",
     "text": [
      "Model Accuracy on test set: 0.8517\n"
     ]
    }
   ],
   "source": [
    "predictions = model.predict(val_generator)\n",
    "y_pred = [np.argmax(probas) for probas in predictions]\n",
    "y_test = val_generator.classes\n",
    "class_names = val_generator.class_indices.keys()\n",
    "\n",
    "print(\"Model Accuracy on test set: {:.4f}\".format(accuracy_score(y_test, y_pred)))"
   ]
  },
  {
   "cell_type": "code",
   "execution_count": 12,
   "metadata": {},
   "outputs": [
    {
     "name": "stdout",
     "output_type": "stream",
     "text": [
      "              precision    recall  f1-score   support\n",
      "\n",
      "           0       0.77      0.90      0.83       990\n",
      "           1       0.87      0.86      0.86       162\n",
      "           2       0.86      0.84      0.85      1025\n",
      "           3       0.95      0.95      0.95      1796\n",
      "           4       0.88      0.80      0.84      1734\n",
      "           5       0.80      0.88      0.84       414\n",
      "           6       0.66      0.64      0.65       602\n",
      "\n",
      "    accuracy                           0.85      6723\n",
      "   macro avg       0.83      0.84      0.83      6723\n",
      "weighted avg       0.85      0.85      0.85      6723\n",
      "\n"
     ]
    }
   ],
   "source": [
    "from sklearn.metrics import confusion_matrix, classification_report\n",
    "print(classification_report(y_test, y_pred))"
   ]
  },
  {
   "cell_type": "code",
   "execution_count": 13,
   "metadata": {},
   "outputs": [
    {
     "data": {
      "image/png": "[encoded data removed]",
      "text/plain": [
       "<Figure size 720x720 with 2 Axes>"
      ]
     },
     "metadata": {
      "needs_background": "light"
     },
     "output_type": "display_data"
    }
   ],
   "source": [
    "import seaborn as sns\n",
    "\n",
    "cm = confusion_matrix(y_test, y_pred)\n",
    "# Normalise\n",
    "cmn = cm.astype('float') / cm.sum(axis=1)[:, np.newaxis]\n",
    "fig, ax = plt.subplots(figsize=(10,10))\n",
    "sns.heatmap(cmn, annot=True, fmt='.2f', xticklabels=class_names, yticklabels=class_names)\n",
    "plt.ylabel('Actual')\n",
    "plt.xlabel('Predicted')\n",
    "plt.show(block=False)"
   ]
  },
  {
   "cell_type": "code",
   "execution_count": 18,
   "metadata": {},
   "outputs": [
    {
     "name": "stdout",
     "output_type": "stream",
     "text": [
      "Found 106 images belonging to 7 classes.\n"
     ]
    }
   ],
   "source": [
    "test_dir = 'FER_test/'\n",
    "\n",
    "datagen_test = ImageDataGenerator(featurewise_center=False,\n",
    "                        featurewise_std_normalization=False,\n",
    "                        rotation_range=10,\n",
    "                        width_shift_range=0.1,\n",
    "                        height_shift_range=0.1,\n",
    "                        zoom_range=.1,\n",
    "                        shear_range=.2,\n",
    "                        horizontal_flip=True)\n",
    "\n",
    "test_generator = datagen_test.flow_from_directory(test_dir,\n",
    "                                                target_size=(224,224),\n",
    "                                                batch_size=batch_size,\n",
    "                                                class_mode='categorical',\n",
    "                                                color_mode='rgb',\n",
    "                                                shuffle=False) "
   ]
  },
  {
   "cell_type": "code",
   "execution_count": 19,
   "metadata": {},
   "outputs": [
    {
     "name": "stdout",
     "output_type": "stream",
     "text": [
      "14/14 [==============================] - 4s 269ms/step - loss: 0.7580 - accuracy: 0.8302\n",
      "\n",
      "Model Accuracy: 83.02%\n",
      "Loss :  0.7580212354660034\n"
     ]
    }
   ],
   "source": [
    "scores = model.evaluate(test_generator, verbose=1)\n",
    "print(\"\\nModel Accuracy: %.2f%%\" % (scores[1]*100))\n",
    "print(\"Loss : \",scores[0])"
   ]
  },
  {
   "cell_type": "code",
   "execution_count": 20,
   "metadata": {},
   "outputs": [
    {
     "name": "stdout",
     "output_type": "stream",
     "text": [
      "Model Predict Accuracy on test set: 0.8491\n"
     ]
    }
   ],
   "source": [
    "predictions = model.predict(test_generator)\n",
    "Y_pred = [np.argmax(probas) for probas in predictions]\n",
    "Y_test = test_generator.classes\n",
    "class_names = test_generator.class_indices.keys()\n",
    "\n",
    "print(\"Model Predict Accuracy on test set: {:.4f}\".format(accuracy_score(Y_test, Y_pred)))"
   ]
  },
  {
   "cell_type": "code",
   "execution_count": 21,
   "metadata": {},
   "outputs": [
    {
     "name": "stdout",
     "output_type": "stream",
     "text": [
      "              precision    recall  f1-score   support\n",
      "\n",
      "           0       0.82      0.93      0.87        15\n",
      "           1       1.00      0.87      0.93        15\n",
      "           2       0.79      0.73      0.76        15\n",
      "           3       0.93      0.93      0.93        15\n",
      "           4       0.75      0.75      0.75        16\n",
      "           5       0.88      0.93      0.90        15\n",
      "           6       0.80      0.80      0.80        15\n",
      "\n",
      "    accuracy                           0.85       106\n",
      "   macro avg       0.85      0.85      0.85       106\n",
      "weighted avg       0.85      0.85      0.85       106\n",
      "\n"
     ]
    }
   ],
   "source": [
    "print(classification_report(Y_test, Y_pred))"
   ]
  },
  {
   "cell_type": "code",
   "execution_count": 22,
   "metadata": {},
   "outputs": [
    {
     "data": {
      "image/png": "[encoded data removed]",
      "text/plain": [
       "<Figure size 720x720 with 2 Axes>"
      ]
     },
     "metadata": {
      "needs_background": "light"
     },
     "output_type": "display_data"
    }
   ],
   "source": [
    "cm = confusion_matrix(Y_test, Y_pred)\n",
    "# Normalise\n",
    "cmn = cm.astype('float') / cm.sum(axis=1)[:, np.newaxis]\n",
    "fig, ax = plt.subplots(figsize=(10,10))\n",
    "sns.heatmap(cmn, annot=True, fmt='.2f', xticklabels=class_names, yticklabels=class_names)\n",
    "plt.ylabel('Actual')\n",
    "plt.xlabel('Predicted')\n",
    "plt.show(block=False)"
   ]
  },
  {
   "cell_type": "code",
   "execution_count": null,
   "metadata": {},
   "outputs": [],
   "source": []
  }
 ],
 "metadata": {
  "interpreter": {
   "hash": "acbe2ad7e144f7fd13ca4af48cb7edb0365df09e468394a9842e1a95742f1d0a"
  },
  "kernelspec": {
   "display_name": "python 3.9(tf_gpu)",
   "language": "python",
   "name": "tf_gpu"
  },
  "language_info": {
   "codemirror_mode": {
    "name": "ipython",
    "version": 3
   },
   "file_extension": ".py",
   "mimetype": "text/x-python",
   "name": "python",
   "nbconvert_exporter": "python",
   "pygments_lexer": "ipython3",
   "version": "3.9.12"
  }
 },
 "nbformat": 4,
 "nbformat_minor": 2
}
